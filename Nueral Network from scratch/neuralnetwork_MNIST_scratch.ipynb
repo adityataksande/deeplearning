{
 "cells": [
  {
   "cell_type": "code",
   "execution_count": 1,
   "metadata": {
    "colab": {},
    "colab_type": "code",
    "id": "eKct7a0wXW7Z"
   },
   "outputs": [],
   "source": [
    "# Import libraries\n",
    "\n",
    "import numpy as np\n",
    "%matplotlib inline\n",
    "import matplotlib\n",
    "import matplotlib.pyplot as plt\n",
    "from sklearn.datasets import fetch_openml\n",
    "from sklearn.metrics import classification_report, confusion_matrix\n",
    "\n",
    "# Read and transform data\n",
    "mnist = fetch_openml('mnist_784')\n",
    "inputData, y = mnist[\"data\"], mnist[\"target\"]\n",
    "\n",
    "inputData = inputData / 255\n",
    "nDigits = 10\n",
    "\n",
    "yOneHot = np.zeros([y.shape[0],nDigits])\n",
    "for i in range(y.shape[0]):\n",
    "    yOneHot[i,int(y[i])]=1\n",
    "\n",
    "y = yOneHot\n",
    "\n",
    "m = 60000\n",
    "m_test = inputData.shape[0] - m\n",
    "\n",
    "y_train, y_test = y[:m,:].reshape(m,nDigits), y[m:,:].reshape(m_test,nDigits)\n",
    "InputData_train, InputData_test = inputData[:m,:], inputData[m:,:]\n",
    "\n",
    "\n",
    "np.random.seed(1002)"
   ]
  },
  {
   "cell_type": "code",
   "execution_count": 2,
   "metadata": {
    "colab": {
     "base_uri": "https://localhost:8080/",
     "height": 282
    },
    "colab_type": "code",
    "id": "6BgFi6VIXW7f",
    "outputId": "56937bc3-9a18-4712-95e0-0a16811f63a0"
   },
   "outputs": [
    {
     "data": {
      "image/png": "[encoded data removed]",
      "text/plain": [
       "<Figure size 432x288 with 1 Axes>"
      ]
     },
     "metadata": {
      "needs_background": "light"
     },
     "output_type": "display_data"
    },
    {
     "name": "stdout",
     "output_type": "stream",
     "text": [
      "[0. 0. 0. 0. 0. 0. 0. 0. 1. 0.]\n"
     ]
    }
   ],
   "source": [
    "# Show a random input\n",
    "\n",
    "i = 7000\n",
    "plt.imshow(InputData_train[i,:].reshape(28,28), cmap = matplotlib.cm.binary)\n",
    "plt.axis(\"off\")\n",
    "plt.show()\n",
    "print(y_train[i,:])"
   ]
  },
  {
   "cell_type": "code",
   "execution_count": 3,
   "metadata": {
    "colab": {},
    "colab_type": "code",
    "id": "52aMz8S_XW7k"
   },
   "outputs": [],
   "source": [
    "# Define activation, loss, and their derivatives\n",
    "\n",
    "def sigmoid(x):\n",
    "    return 1 / (1 + np.exp(-x))\n",
    "\n",
    "def sigmoid_derivative(z):\n",
    "    return z * (1-z)\n",
    "\n",
    "def relu (x):\n",
    "    return np.maximum(0,x) # ReLU is very simple\n",
    "\n",
    "def relu_derivative(x):\n",
    "    return 0.5 * (np.sign(x)+1) # ReLU derivative is either zero or 1.\n",
    "\n",
    "def CrossEntropyLoss(y, y_hat):\n",
    "    L_sum = np.sum(np.multiply(y, np.log(y_hat)))\n",
    "    m = y.shape[1]\n",
    "    L = -(1/m) * L_sum\n",
    "\n",
    "    return L\n",
    "\n",
    "def softmax(y):\n",
    "    return np.exp(y) / np.sum(np.exp(y), axis=0)\n",
    "\n",
    "def CE_Softmax_Derivative(output, ideal_output):\n",
    "    return output - ideal_output"
   ]
  },
  {
   "cell_type": "code",
   "execution_count": 4,
   "metadata": {
    "colab": {},
    "colab_type": "code",
    "id": "wI8vc500XW7o"
   },
   "outputs": [],
   "source": [
    "inputDim = InputData_train.shape[1]\n",
    "nHidden = 64\n",
    "learning_rate = 1\n",
    "weight_decay = 0.001\n",
    "\n",
    "W1 = 0.01*np.random.randn(nHidden, inputDim)\n",
    "b1 = np.zeros((nHidden, 1))\n",
    "W2 = 0.01*np.random.randn(nDigits, nHidden)\n",
    "b2 = np.zeros((nDigits, 1))\n",
    "\n",
    "inputData = InputData_train\n",
    "y = y_train"
   ]
  },
  {
   "cell_type": "code",
   "execution_count": 5,
   "metadata": {
    "colab": {
     "base_uri": "https://localhost:8080/",
     "height": 477
    },
    "colab_type": "code",
    "id": "mI4j41M6XW7r",
    "outputId": "3180ff07-d48d-4698-cad6-24ec7f0e400e"
   },
   "outputs": [
    {
     "name": "stdout",
     "output_type": "stream",
     "text": [
      "Epoch 0 cost:  2.3025926683067466\n",
      "Epoch 10 cost:  1.3575995606291273\n",
      "Epoch 20 cost:  1.5435466738823735\n",
      "Epoch 30 cost:  1.0957404033897524\n",
      "Epoch 40 cost:  0.9177537929309927\n",
      "Epoch 50 cost:  0.5149939683115045\n",
      "Epoch 60 cost:  0.624370954666413\n",
      "Epoch 70 cost:  0.4456593950005525\n",
      "Epoch 80 cost:  0.3476981749075893\n",
      "Epoch 90 cost:  0.32513709217062503\n"
     ]
    },
    {
     "data": {
      "text/plain": [
       "<function matplotlib.pyplot.show(*args, **kw)>"
      ]
     },
     "execution_count": 5,
     "metadata": {},
     "output_type": "execute_result"
    },
    {
     "data": {
      "image/png": "[encoded data removed]",
      "text/plain": [
       "<Figure size 432x288 with 1 Axes>"
      ]
     },
     "metadata": {
      "needs_background": "light"
     },
     "output_type": "display_data"
    }
   ],
   "source": [
    "nEpochs = 100\n",
    "costPlot = np.zeros(nEpochs)\n",
    "\n",
    "for i in range(nEpochs):\n",
    "\n",
    "    Z1 = np.matmul(W1,inputData.T) + b1\n",
    "    A1 = relu(Z1)\n",
    "    Z2 = np.matmul(W2,A1) + b2\n",
    "    A2 = softmax(Z2)\n",
    "\n",
    "    cost = CrossEntropyLoss(y.T, A2)\n",
    "    costPlot[i] = cost\n",
    "\n",
    "    dZ2 = CE_Softmax_Derivative(A2,y.T)\n",
    "    dW2 = (1./m) * np.matmul(dZ2, A1.T)\n",
    "    db2 = (1./m) * np.sum(dZ2, axis=1, keepdims=True)\n",
    "\n",
    "    dA1 = np.matmul(W2.T, dZ2)\n",
    "    dZ1 = dA1 * relu_derivative(Z1)\n",
    "    dW1 = (1./m) * np.matmul(dZ1, inputData)\n",
    "    db1 = (1./m) * np.sum(dZ1, axis=1, keepdims=True)\n",
    "\n",
    "    W2 -= learning_rate * dW2 + weight_decay * W2\n",
    "    b2 -= learning_rate * db2\n",
    "    W1 -= learning_rate * dW1 + weight_decay * W1\n",
    "    b1 -= learning_rate * db1\n",
    "    \n",
    "    if (i % 10 == 0):\n",
    "        print(\"Epoch\", i, \"cost: \", cost)\n",
    "    \n",
    "plt.plot(costPlot)\n",
    "plt.xlabel('Epochs')\n",
    "plt.ylabel('Training Loss')\n",
    "plt.show"
   ]
  },
  {
   "cell_type": "code",
   "execution_count": 6,
   "metadata": {
    "colab": {
     "base_uri": "https://localhost:8080/",
     "height": 492
    },
    "colab_type": "code",
    "id": "NtMx3OmkXW7v",
    "outputId": "7e6adc73-2957-4616-ef0c-f3d5b314ba06"
   },
   "outputs": [
    {
     "name": "stdout",
     "output_type": "stream",
     "text": [
      "[[ 957    0    8    3    2   10   12    4    4   14]\n",
      " [   0 1097    4    0    1    2    2    9    4    3]\n",
      " [   1    1  926   26    6    7    4   30    9    5]\n",
      " [   1    4   14  919    1   67    1    4   14   13]\n",
      " [   0    0   13    0  893    7   13    7    6   27]\n",
      " [   0    0    0   18    0  677   14    0    6    2]\n",
      " [   8    4   14    1   14   15  901    0    9    1]\n",
      " [   3    2   13   10    1    8    0  936    9   15]\n",
      " [   9   27   38   28   13   93   11    5  908   24]\n",
      " [   1    0    2    5   51    6    0   33    5  905]]\n",
      "              precision    recall  f1-score   support\n",
      "\n",
      "           0       0.98      0.94      0.96      1014\n",
      "           1       0.97      0.98      0.97      1122\n",
      "           2       0.90      0.91      0.90      1015\n",
      "           3       0.91      0.89      0.90      1038\n",
      "           4       0.91      0.92      0.92       966\n",
      "           5       0.76      0.94      0.84       717\n",
      "           6       0.94      0.93      0.94       967\n",
      "           7       0.91      0.94      0.92       997\n",
      "           8       0.93      0.79      0.85      1156\n",
      "           9       0.90      0.90      0.90      1008\n",
      "\n",
      "    accuracy                           0.91     10000\n",
      "   macro avg       0.91      0.91      0.91     10000\n",
      "weighted avg       0.92      0.91      0.91     10000\n",
      "\n"
     ]
    }
   ],
   "source": [
    "Z1 = np.matmul(W1, InputData_test.T) + b1\n",
    "A1 = relu(Z1)\n",
    "Z2 = np.matmul(W2, A1) + b2\n",
    "\n",
    "predictions = np.argmax(Z2, axis=0)\n",
    "labels = np.argmax(y_test.T, axis=0)\n",
    "\n",
    "print(confusion_matrix(predictions, labels))\n",
    "print(classification_report(predictions, labels))"
   ]
  },
  {
   "cell_type": "code",
   "execution_count": 0,
   "metadata": {
    "colab": {},
    "colab_type": "code",
    "id": "mMAuqPf-XW7z"
   },
   "outputs": [],
   "source": []
  }
 ],
 "metadata": {
  "accelerator": "GPU",
  "colab": {
   "name": "test.ipynb",
   "provenance": []
  },
  "kernelspec": {
   "display_name": "Python 3",
   "language": "python",
   "name": "python3"
  },
  "language_info": {
   "codemirror_mode": {
    "name": "ipython",
    "version": 3
   },
   "file_extension": ".py",
   "mimetype": "text/x-python",
   "name": "python",
   "nbconvert_exporter": "python",
   "pygments_lexer": "ipython3",
   "version": "3.7.4"
  }
 },
 "nbformat": 4,
 "nbformat_minor": 1
}
