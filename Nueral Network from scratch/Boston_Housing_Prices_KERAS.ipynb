{
 "cells": [
  {
   "cell_type": "code",
   "execution_count": 1,
   "metadata": {
    "scrolled": true
   },
   "outputs": [],
   "source": [
    "import tensorflow as tf\n",
    "tf.reset_default_graph()"
   ]
  },
  {
   "cell_type": "code",
   "execution_count": 2,
   "metadata": {},
   "outputs": [
    {
     "data": {
      "text/plain": [
       "'2.2.4-tf'"
      ]
     },
     "execution_count": 2,
     "metadata": {},
     "output_type": "execute_result"
    }
   ],
   "source": [
    "tf.keras.__version__"
   ]
  },
  {
   "cell_type": "code",
   "execution_count": 3,
   "metadata": {},
   "outputs": [
    {
     "name": "stderr",
     "output_type": "stream",
     "text": [
      "Using TensorFlow backend.\n"
     ]
    }
   ],
   "source": [
    "import keras"
   ]
  },
  {
   "cell_type": "code",
   "execution_count": 4,
   "metadata": {},
   "outputs": [
    {
     "data": {
      "text/plain": [
       "'2.3.1'"
      ]
     },
     "execution_count": 4,
     "metadata": {},
     "output_type": "execute_result"
    }
   ],
   "source": [
    "keras.__version__"
   ]
  },
  {
   "cell_type": "code",
   "execution_count": 9,
   "metadata": {},
   "outputs": [],
   "source": [
    "(features, actual_prices),_ = tf.keras.datasets.boston_housing.load_data(test_split=0)"
   ]
  },
  {
   "cell_type": "code",
   "execution_count": 10,
   "metadata": {
    "slideshow": {
     "slide_type": "fragment"
    }
   },
   "outputs": [
    {
     "name": "stdout",
     "output_type": "stream",
     "text": [
      "Number of examples:  506\n",
      "Number of features for each example:  13\n",
      "Shape of actual prices data:  (506,)\n"
     ]
    }
   ],
   "source": [
    "print('Number of examples: ', features.shape[0])\n",
    "print('Number of features for each example: ', features.shape[1])\n",
    "print('Shape of actual prices data: ', actual_prices.shape)"
   ]
  },
  {
   "cell_type": "code",
   "execution_count": 11,
   "metadata": {
    "slideshow": {
     "slide_type": "fragment"
    }
   },
   "outputs": [],
   "source": [
    "#Initialize Sequential Graph (model)\n",
    "model = tf.keras.models.Sequential()\n",
    "\n",
    "#Normalize input data\n",
    "model.add(tf.keras.layers.BatchNormalization(input_shape=(13,)))\n",
    "\n",
    "#Add Dense layer for prediction - Keras declares weights and bias automatically\n",
    "model.add(tf.keras.layers.Dense(1))\n",
    "\n",
    "#Compile the model - add Loss and Gradient Descent optimizer\n",
    "model.compile(optimizer='sgd', loss='mse')"
   ]
  },
  {
   "cell_type": "code",
   "execution_count": 13,
   "metadata": {
    "scrolled": false,
    "slideshow": {
     "slide_type": "fragment"
    }
   },
   "outputs": [
    {
     "name": "stdout",
     "output_type": "stream",
     "text": [
      "Train on 506 samples\n",
      "Epoch 1/100\n",
      "506/506 [==============================] - 0s 73us/sample - loss: 25.4674\n",
      "Epoch 2/100\n",
      "506/506 [==============================] - 0s 59us/sample - loss: 28.9044\n",
      "Epoch 3/100\n",
      "506/506 [==============================] - 0s 61us/sample - loss: 27.8655\n",
      "Epoch 4/100\n",
      "506/506 [==============================] - 0s 59us/sample - loss: 27.6047\n",
      "Epoch 5/100\n",
      "506/506 [==============================] - 0s 67us/sample - loss: 25.4646\n",
      "Epoch 6/100\n",
      "506/506 [==============================] - 0s 59us/sample - loss: 28.5288\n",
      "Epoch 7/100\n",
      "506/506 [==============================] - 0s 67us/sample - loss: 24.7156\n",
      "Epoch 8/100\n",
      "506/506 [==============================] - 0s 77us/sample - loss: 28.7435\n",
      "Epoch 9/100\n",
      "506/506 [==============================] - 0s 83us/sample - loss: 28.6942\n",
      "Epoch 10/100\n",
      "506/506 [==============================] - 0s 91us/sample - loss: 28.1563\n",
      "Epoch 11/100\n",
      "506/506 [==============================] - 0s 95us/sample - loss: 32.7144\n",
      "Epoch 12/100\n",
      "506/506 [==============================] - 0s 93us/sample - loss: 25.6764\n",
      "Epoch 13/100\n",
      "506/506 [==============================] - 0s 85us/sample - loss: 26.7033\n",
      "Epoch 14/100\n",
      "506/506 [==============================] - 0s 87us/sample - loss: 28.2928\n",
      "Epoch 15/100\n",
      "506/506 [==============================] - 0s 85us/sample - loss: 25.6164\n",
      "Epoch 16/100\n",
      "506/506 [==============================] - 0s 87us/sample - loss: 25.4038\n",
      "Epoch 17/100\n",
      "506/506 [==============================] - 0s 75us/sample - loss: 29.3708\n",
      "Epoch 18/100\n",
      "506/506 [==============================] - 0s 59us/sample - loss: 29.0705\n",
      "Epoch 19/100\n",
      "506/506 [==============================] - 0s 65us/sample - loss: 31.0398\n",
      "Epoch 20/100\n",
      "506/506 [==============================] - 0s 71us/sample - loss: 27.4944\n",
      "Epoch 21/100\n",
      "506/506 [==============================] - 0s 85us/sample - loss: 27.1521\n",
      "Epoch 22/100\n",
      "506/506 [==============================] - 0s 90us/sample - loss: 26.5925\n",
      "Epoch 23/100\n",
      "506/506 [==============================] - 0s 89us/sample - loss: 32.1213\n",
      "Epoch 24/100\n",
      "506/506 [==============================] - 0s 87us/sample - loss: 26.8290\n",
      "Epoch 25/100\n",
      "506/506 [==============================] - 0s 95us/sample - loss: 26.8050\n",
      "Epoch 26/100\n",
      "506/506 [==============================] - 0s 85us/sample - loss: 27.8801\n",
      "Epoch 27/100\n",
      "506/506 [==============================] - 0s 85us/sample - loss: 26.4670\n",
      "Epoch 28/100\n",
      "506/506 [==============================] - 0s 93us/sample - loss: 26.3558\n",
      "Epoch 29/100\n",
      "506/506 [==============================] - 0s 89us/sample - loss: 29.8797\n",
      "Epoch 30/100\n",
      "506/506 [==============================] - 0s 81us/sample - loss: 26.1922\n",
      "Epoch 31/100\n",
      "506/506 [==============================] - 0s 95us/sample - loss: 29.3037\n",
      "Epoch 32/100\n",
      "506/506 [==============================] - 0s 85us/sample - loss: 26.7649\n",
      "Epoch 33/100\n",
      "506/506 [==============================] - 0s 79us/sample - loss: 28.8861\n",
      "Epoch 34/100\n",
      "506/506 [==============================] - 0s 87us/sample - loss: 26.6475\n",
      "Epoch 35/100\n",
      "506/506 [==============================] - 0s 99us/sample - loss: 26.1888\n",
      "Epoch 36/100\n",
      "506/506 [==============================] - 0s 87us/sample - loss: 25.7560\n",
      "Epoch 37/100\n",
      "506/506 [==============================] - 0s 83us/sample - loss: 25.1989\n",
      "Epoch 38/100\n",
      "506/506 [==============================] - 0s 87us/sample - loss: 25.9150\n",
      "Epoch 39/100\n",
      "506/506 [==============================] - 0s 93us/sample - loss: 26.5797\n",
      "Epoch 40/100\n",
      "506/506 [==============================] - 0s 90us/sample - loss: 28.6787\n",
      "Epoch 41/100\n",
      "506/506 [==============================] - 0s 91us/sample - loss: 26.0786\n",
      "Epoch 42/100\n",
      "506/506 [==============================] - 0s 110us/sample - loss: 27.2670\n",
      "Epoch 43/100\n",
      "506/506 [==============================] - 0s 95us/sample - loss: 27.9020\n",
      "Epoch 44/100\n",
      "506/506 [==============================] - 0s 85us/sample - loss: 31.0449\n",
      "Epoch 45/100\n",
      "506/506 [==============================] - 0s 83us/sample - loss: 24.9165\n",
      "Epoch 46/100\n",
      "506/506 [==============================] - 0s 83us/sample - loss: 26.3460\n",
      "Epoch 47/100\n",
      "506/506 [==============================] - 0s 91us/sample - loss: 24.8442\n",
      "Epoch 48/100\n",
      "506/506 [==============================] - 0s 95us/sample - loss: 26.5810\n",
      "Epoch 49/100\n",
      "506/506 [==============================] - 0s 89us/sample - loss: 27.0210\n",
      "Epoch 50/100\n",
      "506/506 [==============================] - 0s 93us/sample - loss: 29.0206\n",
      "Epoch 51/100\n",
      "506/506 [==============================] - 0s 85us/sample - loss: 26.0338\n",
      "Epoch 52/100\n",
      "506/506 [==============================] - 0s 83us/sample - loss: 28.4560\n",
      "Epoch 53/100\n",
      "506/506 [==============================] - 0s 81us/sample - loss: 27.8772\n",
      "Epoch 54/100\n",
      "506/506 [==============================] - 0s 93us/sample - loss: 28.7574\n",
      "Epoch 55/100\n",
      "506/506 [==============================] - 0s 91us/sample - loss: 31.8894\n",
      "Epoch 56/100\n",
      "506/506 [==============================] - 0s 89us/sample - loss: 24.7266\n",
      "Epoch 57/100\n",
      "506/506 [==============================] - 0s 81us/sample - loss: 29.9716\n",
      "Epoch 58/100\n",
      "506/506 [==============================] - 0s 81us/sample - loss: 26.3135\n",
      "Epoch 59/100\n",
      "506/506 [==============================] - 0s 87us/sample - loss: 29.6008\n",
      "Epoch 60/100\n",
      "506/506 [==============================] - 0s 69us/sample - loss: 26.9446\n",
      "Epoch 61/100\n",
      "506/506 [==============================] - 0s 63us/sample - loss: 26.0078\n",
      "Epoch 62/100\n",
      "506/506 [==============================] - 0s 69us/sample - loss: 32.0366\n",
      "Epoch 63/100\n",
      "506/506 [==============================] - 0s 64us/sample - loss: 29.5441\n",
      "Epoch 64/100\n",
      "506/506 [==============================] - 0s 59us/sample - loss: 28.6369\n",
      "Epoch 65/100\n",
      "506/506 [==============================] - 0s 62us/sample - loss: 29.6541\n",
      "Epoch 66/100\n",
      "506/506 [==============================] - 0s 59us/sample - loss: 26.1769\n",
      "Epoch 67/100\n",
      "506/506 [==============================] - 0s 63us/sample - loss: 23.9450\n",
      "Epoch 68/100\n",
      "506/506 [==============================] - 0s 59us/sample - loss: 26.7329\n",
      "Epoch 69/100\n",
      "506/506 [==============================] - 0s 81us/sample - loss: 26.6551\n",
      "Epoch 70/100\n",
      "506/506 [==============================] - 0s 81us/sample - loss: 27.9138\n",
      "Epoch 71/100\n",
      "506/506 [==============================] - 0s 79us/sample - loss: 27.2608\n",
      "Epoch 72/100\n",
      "506/506 [==============================] - 0s 83us/sample - loss: 27.2430\n",
      "Epoch 73/100\n",
      "506/506 [==============================] - 0s 75us/sample - loss: 33.3183\n",
      "Epoch 74/100\n",
      "506/506 [==============================] - 0s 67us/sample - loss: 27.2325\n",
      "Epoch 75/100\n",
      "506/506 [==============================] - 0s 57us/sample - loss: 29.2496\n",
      "Epoch 76/100\n",
      "506/506 [==============================] - 0s 61us/sample - loss: 31.0471\n",
      "Epoch 77/100\n",
      "506/506 [==============================] - 0s 62us/sample - loss: 26.2110\n",
      "Epoch 78/100\n",
      "506/506 [==============================] - 0s 61us/sample - loss: 26.6826\n",
      "Epoch 79/100\n",
      "506/506 [==============================] - 0s 61us/sample - loss: 26.7560\n",
      "Epoch 80/100\n",
      "506/506 [==============================] - 0s 60us/sample - loss: 25.5926\n",
      "Epoch 81/100\n",
      "506/506 [==============================] - 0s 59us/sample - loss: 25.3488\n",
      "Epoch 82/100\n",
      "506/506 [==============================] - 0s 59us/sample - loss: 26.6354\n",
      "Epoch 83/100\n",
      "506/506 [==============================] - 0s 61us/sample - loss: 29.2610\n",
      "Epoch 84/100\n",
      "506/506 [==============================] - 0s 57us/sample - loss: 28.1662\n",
      "Epoch 85/100\n",
      "506/506 [==============================] - 0s 61us/sample - loss: 26.5223\n",
      "Epoch 86/100\n",
      "506/506 [==============================] - 0s 59us/sample - loss: 25.7735\n",
      "Epoch 87/100\n",
      "506/506 [==============================] - 0s 59us/sample - loss: 27.9333\n",
      "Epoch 88/100\n",
      "506/506 [==============================] - 0s 65us/sample - loss: 26.5970\n",
      "Epoch 89/100\n",
      "506/506 [==============================] - 0s 61us/sample - loss: 27.6082\n",
      "Epoch 90/100\n",
      "506/506 [==============================] - 0s 63us/sample - loss: 25.9630\n",
      "Epoch 91/100\n",
      "506/506 [==============================] - 0s 61us/sample - loss: 26.7822\n",
      "Epoch 92/100\n",
      "506/506 [==============================] - 0s 65us/sample - loss: 27.7462\n",
      "Epoch 93/100\n",
      "506/506 [==============================] - 0s 63us/sample - loss: 29.9031\n",
      "Epoch 94/100\n",
      "506/506 [==============================] - 0s 63us/sample - loss: 25.0010\n",
      "Epoch 95/100\n"
     ]
    },
    {
     "name": "stdout",
     "output_type": "stream",
     "text": [
      "506/506 [==============================] - 0s 61us/sample - loss: 31.7114\n",
      "Epoch 96/100\n",
      "506/506 [==============================] - 0s 61us/sample - loss: 26.5064\n",
      "Epoch 97/100\n",
      "506/506 [==============================] - 0s 59us/sample - loss: 25.6898\n",
      "Epoch 98/100\n",
      "506/506 [==============================] - 0s 63us/sample - loss: 29.9130\n",
      "Epoch 99/100\n",
      "506/506 [==============================] - 0s 61us/sample - loss: 26.8998\n",
      "Epoch 100/100\n",
      "506/506 [==============================] - 0s 59us/sample - loss: 24.9053\n"
     ]
    },
    {
     "data": {
      "text/plain": [
       "<tensorflow.python.keras.callbacks.History at 0x248d49f5188>"
      ]
     },
     "execution_count": 13,
     "metadata": {},
     "output_type": "execute_result"
    }
   ],
   "source": [
    "model.fit(features, actual_prices, epochs=100)"
   ]
  },
  {
   "cell_type": "code",
   "execution_count": 14,
   "metadata": {
    "slideshow": {
     "slide_type": "fragment"
    }
   },
   "outputs": [],
   "source": [
    "model.save('boston_housing_lr.h5')"
   ]
  },
  {
   "cell_type": "code",
   "execution_count": null,
   "metadata": {},
   "outputs": [],
   "source": []
  }
 ],
 "metadata": {
  "kernelspec": {
   "display_name": "Python 3",
   "language": "python",
   "name": "python3"
  },
  "language_info": {
   "codemirror_mode": {
    "name": "ipython",
    "version": 3
   },
   "file_extension": ".py",
   "mimetype": "text/x-python",
   "name": "python",
   "nbconvert_exporter": "python",
   "pygments_lexer": "ipython3",
   "version": "3.7.4"
  }
 },
 "nbformat": 4,
 "nbformat_minor": 2
}
